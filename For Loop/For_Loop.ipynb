{
 "cells": [
  {
   "cell_type": "code",
   "execution_count": 5,
   "id": "1c908598-ad5a-41be-a85a-92a90fd53e4b",
   "metadata": {},
   "outputs": [
    {
     "name": "stdout",
     "output_type": "stream",
     "text": [
      "Jack\n",
      "Doe\n",
      "John\n"
     ]
    }
   ],
   "source": [
    "person = [\"Jack\", \"Doe\", \"John\"]\n",
    "for x in person:\n",
    "     print(x)"
   ]
  },
  {
   "cell_type": "code",
   "execution_count": 6,
   "id": "898e2853-d7ed-4635-a651-a0ff4f505601",
   "metadata": {},
   "outputs": [
    {
     "name": "stdout",
     "output_type": "stream",
     "text": [
      "Jack\n",
      "Doe\n",
      "Doe\n",
      "John\n"
     ]
    }
   ],
   "source": [
    "person = [\"Jack\", \"Doe\", \"John\"]\n",
    "for x in person:\n",
    "    print(x)\n",
    "    if x == \"Doe\":\n",
    "        print(x)"
   ]
  },
  {
   "cell_type": "code",
   "execution_count": 10,
   "id": "33b261ca-bda0-42e5-bbf6-fa4d2c33acb7",
   "metadata": {},
   "outputs": [
    {
     "name": "stdout",
     "output_type": "stream",
     "text": [
      "Jack\n",
      "Doe\n"
     ]
    }
   ],
   "source": [
    "person = [\"Jack\", \"Doe\", \"John\"]\n",
    "for x in person:\n",
    "    print(x)\n",
    "    if x == \"Doe\":\n",
    "        break"
   ]
  },
  {
   "cell_type": "code",
   "execution_count": 11,
   "id": "00f19832-1490-4883-ae70-d080cb371513",
   "metadata": {},
   "outputs": [
    {
     "name": "stdout",
     "output_type": "stream",
     "text": [
      "Jack\n",
      "Doe\n",
      "John\n"
     ]
    }
   ],
   "source": [
    "person = [\"Jack\", \"Doe\", \"John\"]\n",
    "for x in person:\n",
    "    print(x)\n",
    "    if x == \"Doe\":\n",
    "        continue\n",
    "        print(x)"
   ]
  },
  {
   "cell_type": "code",
   "execution_count": 12,
   "id": "9e49ea88-b1e2-45ba-abcf-f95757d478d5",
   "metadata": {},
   "outputs": [
    {
     "name": "stdout",
     "output_type": "stream",
     "text": [
      "D\n",
      "o\n",
      "e\n"
     ]
    }
   ],
   "source": [
    "for x in \"Doe\":\n",
    "    print(x)"
   ]
  },
  {
   "cell_type": "code",
   "execution_count": 15,
   "id": "09879ca5-15ce-4607-a809-e74cf108efb8",
   "metadata": {},
   "outputs": [
    {
     "name": "stdout",
     "output_type": "stream",
     "text": [
      "0\n",
      "1\n",
      "2\n",
      "3\n",
      "4\n",
      "5\n"
     ]
    }
   ],
   "source": [
    "for x in range(6):\n",
    "    print(x)"
   ]
  },
  {
   "cell_type": "code",
   "execution_count": 16,
   "id": "5e64311b-257c-4594-a50c-ad22c01dad9f",
   "metadata": {},
   "outputs": [
    {
     "name": "stdout",
     "output_type": "stream",
     "text": [
      "2\n",
      "3\n",
      "4\n",
      "5\n"
     ]
    }
   ],
   "source": [
    "for x in range(2, 6):\n",
    "    print(x)"
   ]
  },
  {
   "cell_type": "code",
   "execution_count": 17,
   "id": "10b8c1f3-6bc3-42c5-a63c-bd08df05e504",
   "metadata": {},
   "outputs": [
    {
     "name": "stdout",
     "output_type": "stream",
     "text": [
      "2\n",
      "5\n",
      "8\n",
      "11\n",
      "14\n",
      "17\n",
      "20\n",
      "23\n",
      "26\n",
      "29\n"
     ]
    }
   ],
   "source": [
    "for x in range(2, 30, 3):\n",
    "    print(x)"
   ]
  },
  {
   "cell_type": "code",
   "execution_count": 21,
   "id": "544b4eed-6ba5-4ac8-a803-7c3d6f775766",
   "metadata": {},
   "outputs": [
    {
     "name": "stdout",
     "output_type": "stream",
     "text": [
      "0\n",
      "1\n",
      "2\n",
      "3\n",
      "4\n",
      "5\n",
      "S\n",
      "u\n",
      "c\n",
      "c\n",
      "e\n",
      "s\n",
      "s\n"
     ]
    }
   ],
   "source": [
    "for x in range(6):\n",
    "    print(x)\n",
    "else:\n",
    "    print(\"Success\")"
   ]
  },
  {
   "cell_type": "code",
   "execution_count": 22,
   "id": "062d7b7e-c9f9-4a4b-b075-88bbee5d4de7",
   "metadata": {},
   "outputs": [
    {
     "name": "stdout",
     "output_type": "stream",
     "text": [
      "0\n",
      "1\n",
      "2\n",
      "3\n",
      "4\n",
      "5\n",
      "S\n",
      "u\n",
      "c\n",
      "c\n",
      "e\n",
      "s\n",
      "s\n"
     ]
    }
   ],
   "source": [
    "for x in range(6):\n",
    "    print(x)\n",
    "else:\n",
    "    for x in \"Success\":\n",
    "        print(x)"
   ]
  },
  {
   "cell_type": "code",
   "execution_count": 26,
   "id": "1a0204b4-5885-45c8-ad3e-a43f35c75e18",
   "metadata": {},
   "outputs": [
    {
     "name": "stdout",
     "output_type": "stream",
     "text": [
      "0\n",
      "1\n",
      "2\n"
     ]
    }
   ],
   "source": [
    "for x in range(6):\n",
    "    if x == 3: break\n",
    "    print(x)\n",
    "else:\n",
    "    print(\"Successfully :)\") "
   ]
  },
  {
   "cell_type": "code",
   "execution_count": 27,
   "id": "36faf258-0808-4768-8014-f31c0f1820de",
   "metadata": {},
   "outputs": [
    {
     "name": "stdout",
     "output_type": "stream",
     "text": [
      "Jack Apple\n",
      "Jack Orange\n",
      "Jack Mangang Hilaw\n",
      "Doe Apple\n",
      "Doe Orange\n",
      "Doe Mangang Hilaw\n",
      "John Apple\n",
      "John Orange\n",
      "John Mangang Hilaw\n"
     ]
    }
   ],
   "source": [
    "person = [\"Jack\", \"Doe\", \"John\"]\n",
    "fruit = [\"Apple\", \"Orange\", \"Mangang Hilaw\"]\n",
    "\n",
    "for x in person:\n",
    "    for y in fruit:\n",
    "        print(x, y)"
   ]
  },
  {
   "cell_type": "code",
   "execution_count": 30,
   "id": "879c9010-8ccd-4cde-82be-ae7eec403939",
   "metadata": {},
   "outputs": [],
   "source": [
    "for x in [1, 0, 2]:\n",
    "    pass"
   ]
  },
  {
   "cell_type": "code",
   "execution_count": null,
   "id": "78b4d742-fc22-4bcb-b275-0de011dfb8cd",
   "metadata": {},
   "outputs": [],
   "source": []
  },
  {
   "cell_type": "code",
   "execution_count": null,
   "id": "b0c79505-67f5-4224-ba51-6667f48921c1",
   "metadata": {},
   "outputs": [],
   "source": []
  }
 ],
 "metadata": {
  "kernelspec": {
   "display_name": "anaconda-panel-2023.05-py310",
   "language": "python",
   "name": "conda-env-anaconda-panel-2023.05-py310-py"
  },
  "language_info": {
   "codemirror_mode": {
    "name": "ipython",
    "version": 3
   },
   "file_extension": ".py",
   "mimetype": "text/x-python",
   "name": "python",
   "nbconvert_exporter": "python",
   "pygments_lexer": "ipython3",
   "version": "3.11.5"
  }
 },
 "nbformat": 4,
 "nbformat_minor": 5
}
