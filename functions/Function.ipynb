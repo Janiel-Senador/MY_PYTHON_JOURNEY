{
 "cells": [
  {
   "cell_type": "markdown",
   "id": "7691981a-c423-4ddf-8553-eb2df9afd0e5",
   "metadata": {},
   "source": [
    "# Function"
   ]
  },
  {
   "cell_type": "code",
   "execution_count": 2,
   "id": "7adcca1d-8d92-42a6-974c-8a61cb0841f2",
   "metadata": {},
   "outputs": [
    {
     "name": "stdout",
     "output_type": "stream",
     "text": [
      "Pythonss\n"
     ]
    }
   ],
   "source": [
    "def Python_S():\n",
    "    print(\"Pythonss\")\n",
    "\n",
    "Python_S()"
   ]
  },
  {
   "cell_type": "code",
   "execution_count": 3,
   "id": "ea92f8ea-30e3-40fa-9412-5e934613ec3c",
   "metadata": {},
   "outputs": [
    {
     "name": "stdout",
     "output_type": "stream",
     "text": [
      "Joe Nabunturan\n",
      "Carl Nabunturan\n",
      "Jake Nabunturan\n"
     ]
    }
   ],
   "source": [
    "def my_function(fname):\n",
    "    print(fname + \" Nabunturan\")\n",
    "\n",
    "my_function(\"Joe\")\n",
    "my_function(\"Carl\")\n",
    "my_function(\"Jake\")"
   ]
  },
  {
   "cell_type": "code",
   "execution_count": 7,
   "id": "93cfa2a6-875c-4397-99cc-839cd8b14726",
   "metadata": {},
   "outputs": [
    {
     "name": "stdout",
     "output_type": "stream",
     "text": [
      "John Doe\n"
     ]
    }
   ],
   "source": [
    "def my_function(fname, lname):\n",
    "    print(fname + \" \" + lname)\n",
    "\n",
    "my_function(\"John\", \"Doe\")"
   ]
  },
  {
   "cell_type": "code",
   "execution_count": 11,
   "id": "f1f6153d-4aff-4505-8794-9c68a4c2e8a3",
   "metadata": {},
   "outputs": [
    {
     "ename": "TypeError",
     "evalue": "my_function() takes 1 positional argument but 3 were given",
     "output_type": "error",
     "traceback": [
      "\u001b[0;31m---------------------------------------------------------------------------\u001b[0m",
      "\u001b[0;31mTypeError\u001b[0m                                 Traceback (most recent call last)",
      "Cell \u001b[0;32mIn[11], line 4\u001b[0m\n\u001b[1;32m      1\u001b[0m \u001b[38;5;28;01mdef\u001b[39;00m \u001b[38;5;21mmy_function\u001b[39m(name):\n\u001b[1;32m      2\u001b[0m     \u001b[38;5;28mprint\u001b[39m(\u001b[38;5;124m\"\u001b[39m\u001b[38;5;124mThis is the children was crossing the road: \u001b[39m\u001b[38;5;124m\"\u001b[39m \u001b[38;5;241m+\u001b[39m name[\u001b[38;5;241m2\u001b[39m])\n\u001b[0;32m----> 4\u001b[0m \u001b[43mmy_function\u001b[49m\u001b[43m(\u001b[49m\u001b[38;5;124;43m\"\u001b[39;49m\u001b[38;5;124;43mJohn\u001b[39;49m\u001b[38;5;124;43m\"\u001b[39;49m\u001b[43m,\u001b[49m\u001b[43m \u001b[49m\u001b[38;5;124;43m\"\u001b[39;49m\u001b[38;5;124;43mDoe\u001b[39;49m\u001b[38;5;124;43m\"\u001b[39;49m\u001b[43m,\u001b[49m\u001b[43m \u001b[49m\u001b[38;5;124;43m\"\u001b[39;49m\u001b[38;5;124;43mCarl\u001b[39;49m\u001b[38;5;124;43m\"\u001b[39;49m\u001b[43m)\u001b[49m\n",
      "\u001b[0;31mTypeError\u001b[0m: my_function() takes 1 positional argument but 3 were given"
     ]
    }
   ],
   "source": [
    "def my_function(*name):\n",
    "    print(\"This is the children was crossing the road: \" + name[2])\n",
    "\n",
    "my_function(\"John\", \"Doe\", \"Carl\")"
   ]
  },
  {
   "cell_type": "code",
   "execution_count": 14,
   "id": "2dc720f3-d146-4ae0-8f46-a389582efbc8",
   "metadata": {},
   "outputs": [
    {
     "name": "stdout",
     "output_type": "stream",
     "text": [
      "This guy's name is: Doe you should arrest him\n"
     ]
    }
   ],
   "source": [
    "def my_function(name1, name2, name3):\n",
    "    print(\"This guy's name is: \" + name3 + \" ,you should arrest him\")\n",
    "\n",
    "my_function(name1 = \"Jake\", name2 = \"John\", name3 = \"Doe\")"
   ]
  },
  {
   "cell_type": "code",
   "execution_count": 20,
   "id": "fb001db3-1083-4790-9c50-13fc7edd438f",
   "metadata": {},
   "outputs": [
    {
     "name": "stdout",
     "output_type": "stream",
     "text": [
      "My name is: Doe\n"
     ]
    }
   ],
   "source": [
    "def my_function(**kid):\n",
    "    print(\"My name is: \" + kid[\"mname\"])\n",
    "\n",
    "my_function(fname = \"John\", mname = \"Doe\", lname = \"Nabunturan\")"
   ]
  },
  {
   "cell_type": "code",
   "execution_count": 21,
   "id": "84a23bdb-60dd-4270-a4cb-290734dadf58",
   "metadata": {},
   "outputs": [
    {
     "name": "stdout",
     "output_type": "stream",
     "text": [
      "The country are: India\n",
      "The country are: China\n",
      "The country are: Philippines\n",
      "The country are: Japan\n"
     ]
    }
   ],
   "source": [
    "def my_function(country = \"Philippines\"):\n",
    "    print(\"The country are: \" + country)\n",
    "\n",
    "my_function(\"India\")\n",
    "my_function(\"China\")\n",
    "my_function()\n",
    "my_function(\"Japan\")"
   ]
  },
  {
   "cell_type": "code",
   "execution_count": 22,
   "id": "79bde4be-fb2c-4f27-99fa-9898f8bdad24",
   "metadata": {},
   "outputs": [
    {
     "name": "stdout",
     "output_type": "stream",
     "text": [
      "Apol\n",
      "Orengi\n",
      "Avacada\n"
     ]
    }
   ],
   "source": [
    "def my_function(food):\n",
    "    for x in food:\n",
    "        print(x)\n",
    "\n",
    "fruit = [\"Apol\", \"Orengi\", \"Avacada\"]\n",
    "\n",
    "my_function(fruit)"
   ]
  },
  {
   "cell_type": "code",
   "execution_count": 23,
   "id": "81246157-517c-4907-a0ac-d0bffc435232",
   "metadata": {},
   "outputs": [
    {
     "name": "stdout",
     "output_type": "stream",
     "text": [
      "40\n",
      "45\n",
      "50\n"
     ]
    }
   ],
   "source": [
    "def my_function(x):\n",
    "    print(x * 5)\n",
    "\n",
    "my_function(8)\n",
    "my_function(9)\n",
    "my_function(10)"
   ]
  },
  {
   "cell_type": "code",
   "execution_count": 24,
   "id": "aace5295-b05c-4f52-a5ab-b963f4cd99ea",
   "metadata": {},
   "outputs": [
    {
     "name": "stdout",
     "output_type": "stream",
     "text": [
      "40\n",
      "45\n",
      "50\n"
     ]
    }
   ],
   "source": [
    "def my_function(x):\n",
    "    return x * 5\n",
    "\n",
    "print(my_function(8))\n",
    "print(my_function(9))\n",
    "print(my_function(10))"
   ]
  },
  {
   "cell_type": "code",
   "execution_count": 25,
   "id": "38d8711f-0593-4597-b182-f64f7e4ee7b0",
   "metadata": {},
   "outputs": [
    {
     "name": "stdout",
     "output_type": "stream",
     "text": [
      "5\n"
     ]
    }
   ],
   "source": [
    "def my_function(x, /):\n",
    "    print(x)\n",
    "\n",
    "my_function(5)"
   ]
  },
  {
   "cell_type": "code",
   "execution_count": 26,
   "id": "529b2dbe-c805-4176-b691-f961bb92fbfa",
   "metadata": {},
   "outputs": [
    {
     "name": "stdout",
     "output_type": "stream",
     "text": [
      "5\n"
     ]
    }
   ],
   "source": [
    "def my_function(x):\n",
    "    print(x)\n",
    "\n",
    "my_function(x = 5)"
   ]
  },
  {
   "cell_type": "code",
   "execution_count": 27,
   "id": "4efb2035-7721-43ff-99b7-b6b36277b273",
   "metadata": {},
   "outputs": [
    {
     "name": "stdout",
     "output_type": "stream",
     "text": [
      "5\n"
     ]
    }
   ],
   "source": [
    "def my_function(*, x):\n",
    "    print(x)\n",
    "\n",
    "my_function(x = 5)"
   ]
  },
  {
   "cell_type": "code",
   "execution_count": 31,
   "id": "e4bc21fd-7ebb-4b5a-a37c-d044e7421961",
   "metadata": {},
   "outputs": [
    {
     "name": "stdout",
     "output_type": "stream",
     "text": [
      "17\n"
     ]
    }
   ],
   "source": [
    "def my_func(a, b, /, *, c, d):\n",
    "    print(a + b + c + d)\n",
    "\n",
    "my_func(5, 7, c = 2, d = 3)"
   ]
  },
  {
   "cell_type": "code",
   "execution_count": 38,
   "id": "c6d88f7e-e28b-42b1-a7ac-97fd6f873d46",
   "metadata": {
    "scrolled": true
   },
   "outputs": [
    {
     "name": "stdout",
     "output_type": "stream",
     "text": [
      "Hola\n",
      "1\n",
      "3\n",
      "6\n",
      "10\n",
      "15\n"
     ]
    },
    {
     "data": {
      "text/plain": [
       "15"
      ]
     },
     "execution_count": 38,
     "metadata": {},
     "output_type": "execute_result"
    }
   ],
   "source": [
    "def tri_recursion(x):\n",
    "    if (x > 0):\n",
    "        result = x + tri_recursion(x - 1)\n",
    "        print(result)\n",
    "    else:\n",
    "        result = 0\n",
    "    return result\n",
    "        \n",
    "print(\"Hola\")\n",
    "tri_recursion(5)"
   ]
  },
  {
   "cell_type": "code",
   "execution_count": null,
   "id": "3cf0e990-a21e-4266-9a19-9e2817da67f4",
   "metadata": {},
   "outputs": [],
   "source": []
  }
 ],
 "metadata": {
  "kernelspec": {
   "display_name": "anaconda-ai-2024.04-py310",
   "language": "python",
   "name": "conda-env-anaconda-ai-2024.04-py310-py"
  },
  "language_info": {
   "codemirror_mode": {
    "name": "ipython",
    "version": 3
   },
   "file_extension": ".py",
   "mimetype": "text/x-python",
   "name": "python",
   "nbconvert_exporter": "python",
   "pygments_lexer": "ipython3",
   "version": "3.10.13"
  }
 },
 "nbformat": 4,
 "nbformat_minor": 5
}
